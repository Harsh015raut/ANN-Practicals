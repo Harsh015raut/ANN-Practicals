{
 "cells": [
  {
   "cell_type": "code",
   "execution_count": 1,
   "id": "349a867e-d8c8-4675-bbee-126fe24ba5c4",
   "metadata": {},
   "outputs": [],
   "source": [
    "import numpy as np"
   ]
  },
  {
   "cell_type": "markdown",
   "id": "b186435e-f5f7-46b4-925a-eb8f3505404c",
   "metadata": {},
   "source": [
    "#### Defining the training data"
   ]
  },
  {
   "cell_type": "code",
   "execution_count": 2,
   "id": "2ca83cbd-de0c-4d30-8825-0785c8385ddf",
   "metadata": {},
   "outputs": [],
   "source": [
    "training_data = np.array([\n",
    "                             [48, 0], \n",
    "                             [49, 1],  \n",
    "                             [50, 0],  \n",
    "                             [51, 1],  \n",
    "                             [52, 0],  \n",
    "                             [53, 1],  \n",
    "                             [54, 0],  \n",
    "                             [55, 1],  \n",
    "                             [56, 0],  \n",
    "                             [57, 1]\n",
    "])"
   ]
  },
  {
   "cell_type": "markdown",
   "id": "cefc8547-5f64-4816-9075-b3d2b9b0d681",
   "metadata": {},
   "source": [
    "#### Seperating the input features (ASCII values) and the target labels (even/odd)"
   ]
  },
  {
   "cell_type": "code",
   "execution_count": 3,
   "id": "61729522-41f7-47c7-b924-fc5d8bf51213",
   "metadata": {},
   "outputs": [],
   "source": [
    "X = training_data[:,0].reshape(-1,1)\n",
    "y = training_data[:,1]"
   ]
  },
  {
   "cell_type": "markdown",
   "id": "ed35ebce-862b-4d51-a831-ffe115cf0f5a",
   "metadata": {},
   "source": [
    "#### Create and train the perceptron"
   ]
  },
  {
   "cell_type": "code",
   "execution_count": 4,
   "id": "9f7d5665-eb17-4f67-9f79-0d81ff2b4899",
   "metadata": {},
   "outputs": [],
   "source": [
    "perceptron = np.where(np.sum(X,axis=1) % 2 ==0,0,1)"
   ]
  },
  {
   "cell_type": "markdown",
   "id": "cdc6aa22-ef17-414d-8539-c36e16880409",
   "metadata": {},
   "source": [
    "#### Testing the model "
   ]
  },
  {
   "cell_type": "code",
   "execution_count": 5,
   "id": "6819cb5f-5b49-46d9-bb69-19fee926025b",
   "metadata": {},
   "outputs": [],
   "source": [
    "test_data = np.array([48, 49, 50, 51, 52, 53, 54, 55, 56, 57])\n",
    "predictions = np.where(np.sum(test_data.reshape(-1,1),axis=1) % 2 == 0,0,1)"
   ]
  },
  {
   "cell_type": "markdown",
   "id": "6cbce8ae-e2f8-405b-a45b-b1d0e5bf04dc",
   "metadata": {},
   "source": [
    "#### Predictions"
   ]
  },
  {
   "cell_type": "code",
   "execution_count": 6,
   "id": "810f74aa-7fc6-4163-b4a2-3f1a84573eb6",
   "metadata": {},
   "outputs": [
    {
     "name": "stdout",
     "output_type": "stream",
     "text": [
      "Number: 0, ASCII value: 48 , Output: even.\n",
      "Number: 1, ASCII value: 49 , Output: odd.\n",
      "Number: 2, ASCII value: 50 , Output: even.\n",
      "Number: 3, ASCII value: 51 , Output: odd.\n",
      "Number: 4, ASCII value: 52 , Output: even.\n",
      "Number: 5, ASCII value: 53 , Output: odd.\n",
      "Number: 6, ASCII value: 54 , Output: even.\n",
      "Number: 7, ASCII value: 55 , Output: odd.\n",
      "Number: 8, ASCII value: 56 , Output: even.\n",
      "Number: 9, ASCII value: 57 , Output: odd.\n"
     ]
    }
   ],
   "source": [
    "for ascii_val,prediction in zip(test_data,predictions):\n",
    "    number = chr(ascii_val)\n",
    "    parity = \"even\" if prediction == 0 else \"odd\" \n",
    "    print(f\"Number: {number}, ASCII value: {ascii_val} , Output: {parity}.\")"
   ]
  }
 ],
 "metadata": {
  "kernelspec": {
   "display_name": "Python 3 (ipykernel)",
   "language": "python",
   "name": "python3"
  },
  "language_info": {
   "codemirror_mode": {
    "name": "ipython",
    "version": 3
   },
   "file_extension": ".py",
   "mimetype": "text/x-python",
   "name": "python",
   "nbconvert_exporter": "python",
   "pygments_lexer": "ipython3",
   "version": "3.11.4"
  }
 },
 "nbformat": 4,
 "nbformat_minor": 5
}
