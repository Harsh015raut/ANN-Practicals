{
 "cells": [
  {
   "cell_type": "code",
   "execution_count": 1,
   "id": "68f594bf-3c18-476d-b146-210d6d5ce4d0",
   "metadata": {},
   "outputs": [],
   "source": [
    "import numpy as np "
   ]
  },
  {
   "cell_type": "markdown",
   "id": "2f0e78cb-4b4d-44e1-87f0-dc30c15d2660",
   "metadata": {},
   "source": [
    "## Defining the Mculloch-Pitts neural network "
   ]
  },
  {
   "cell_type": "code",
   "execution_count": 2,
   "id": "778c4221-c418-4444-a338-c110584be033",
   "metadata": {},
   "outputs": [],
   "source": [
    "class McCullochPitts:\n",
    "  def __init__(self,input_size):\n",
    "    self.weights = np.zeros(input_size)\n",
    "    self.bias = 0 \n",
    "  \n",
    "  def predict(self,inputs):\n",
    "    linear_combination = np.dot(self.weights,inputs) + self.bias \n",
    "    if linear_combination >=0:\n",
    "      return 1\n",
    "    else:\n",
    "      return 0"
   ]
  },
  {
   "cell_type": "markdown",
   "id": "a175ab48-debe-49db-ac15-4a3e0f76148f",
   "metadata": {},
   "source": [
    "#### Defining the inputs and expected outputs for the ANDNOT function \r\n",
    "\r\n"
   ]
  },
  {
   "cell_type": "code",
   "execution_count": 3,
   "id": "2b1892ff-6577-4347-b204-b1c84c8639c1",
   "metadata": {},
   "outputs": [],
   "source": [
    "inputs = np.array([[0,0],[0,1],[1,0],[1,1]])\n",
    "expected_outputs = np.array([0,0,1,0])"
   ]
  },
  {
   "cell_type": "markdown",
   "id": "7a271f50-3c3f-49c4-9b39-6c7a7084b2e1",
   "metadata": {},
   "source": [
    "#### Creating a Mculloch Neural network with 2 inputs "
   ]
  },
  {
   "cell_type": "code",
   "execution_count": 4,
   "id": "411c0c1e-81d9-4f07-a2c1-516be1249870",
   "metadata": {},
   "outputs": [],
   "source": [
    "neural_network = McCullochPitts(2)"
   ]
  },
  {
   "cell_type": "markdown",
   "id": "bc890271-9f53-4340-a755-e1529506066b",
   "metadata": {},
   "source": [
    "#### Train the neural network using perceptron"
   ]
  },
  {
   "cell_type": "code",
   "execution_count": 5,
   "id": "bf80d3f4-e376-42f8-bbd1-246c81741397",
   "metadata": {},
   "outputs": [],
   "source": [
    "learning_rate = 0.1\n",
    "epochs = 10 \n",
    "for epoch in range(epochs):\n",
    "    for input,expected_output in zip(inputs,expected_outputs):\n",
    "        prediction = neural_network.predict(input) \n",
    "        error = expected_output - prediction \n",
    "        neural_network.weights += learning_rate * error * input\n",
    "        neural_network.bias += learning_rate * error "
   ]
  },
  {
   "cell_type": "markdown",
   "id": "e35892cd-348d-4236-a90b-5455d9c0de9a",
   "metadata": {},
   "source": [
    "#### Test the neural network on inputs "
   ]
  },
  {
   "cell_type": "code",
   "execution_count": 6,
   "id": "f44701c7-187f-4094-b718-3c87d669c144",
   "metadata": {},
   "outputs": [
    {
     "name": "stdout",
     "output_type": "stream",
     "text": [
      "Inputs: [0 0]\n",
      "ANDNOT output: False\n",
      "Inputs: [0 1]\n",
      "ANDNOT output: False\n",
      "Inputs: [1 0]\n",
      "ANDNOT output: True\n",
      "Inputs: [1 1]\n",
      "ANDNOT output: False\n"
     ]
    }
   ],
   "source": [
    "for input in inputs:\n",
    "    print(f\"Inputs: {input}\")\n",
    "    if neural_network.predict(input) == 1:\n",
    "        print(\"ANDNOT output: True\")\n",
    "    else:\n",
    "        print(\"ANDNOT output: False\")"
   ]
  },
  {
   "cell_type": "code",
   "execution_count": null,
   "id": "2cf98fc4-35c1-4abb-b36e-f8066c1b0d65",
   "metadata": {},
   "outputs": [],
   "source": []
  }
 ],
 "metadata": {
  "kernelspec": {
   "display_name": "Python 3 (ipykernel)",
   "language": "python",
   "name": "python3"
  },
  "language_info": {
   "codemirror_mode": {
    "name": "ipython",
    "version": 3
   },
   "file_extension": ".py",
   "mimetype": "text/x-python",
   "name": "python",
   "nbconvert_exporter": "python",
   "pygments_lexer": "ipython3",
   "version": "3.11.4"
  }
 },
 "nbformat": 4,
 "nbformat_minor": 5
}
